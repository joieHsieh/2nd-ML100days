{
 "cells": [
  {
   "cell_type": "markdown",
   "metadata": {},
   "source": [
    "## [作業重點]\n",
    "確保你了解隨機森林模型中每個超參數的意義，並觀察調整超參數對結果的影響"
   ]
  },
  {
   "cell_type": "markdown",
   "metadata": {},
   "source": [
    "## 作業\n",
    "\n",
    "1. 試著調整 RandomForestClassifier(...) 中的參數，並觀察是否會改變結果？\n",
    "2. 改用其他資料集 (boston, wine)，並與回歸模型與決策樹的結果進行比較"
   ]
  },
  {
   "cell_type": "code",
   "execution_count": 28,
   "metadata": {},
   "outputs": [],
   "source": [
    "from sklearn import datasets, metrics\n",
    "from sklearn.ensemble import RandomForestClassifier\n",
    "from sklearn.model_selection import train_test_split"
   ]
  },
  {
   "cell_type": "code",
   "execution_count": 40,
   "metadata": {},
   "outputs": [
    {
     "name": "stdout",
     "output_type": "stream",
     "text": [
      "criterion_n: gini, n_estimators: 10, max_depth: 2, Acuuracy: 0.955556\n",
      "criterion_n: gini, n_estimators: 10, max_depth: 4, Acuuracy: 0.977778\n",
      "criterion_n: gini, n_estimators: 10, max_depth: 6, Acuuracy: 1.000000\n",
      "criterion_n: gini, n_estimators: 10, max_depth: 6, Acuuracy: 0.977778\n",
      "criterion_n: gini, n_estimators: 10, max_depth: 8, Acuuracy: 0.955556\n",
      "criterion_n: gini, n_estimators: 10, max_depth: 10, Acuuracy: 0.977778\n",
      "criterion_n: gini, n_estimators: 20, max_depth: 2, Acuuracy: 0.955556\n",
      "criterion_n: gini, n_estimators: 20, max_depth: 4, Acuuracy: 1.000000\n",
      "criterion_n: gini, n_estimators: 20, max_depth: 6, Acuuracy: 0.977778\n",
      "criterion_n: gini, n_estimators: 20, max_depth: 6, Acuuracy: 0.977778\n",
      "criterion_n: gini, n_estimators: 20, max_depth: 8, Acuuracy: 1.000000\n",
      "criterion_n: gini, n_estimators: 20, max_depth: 10, Acuuracy: 0.977778\n",
      "criterion_n: gini, n_estimators: 30, max_depth: 2, Acuuracy: 0.977778\n",
      "criterion_n: gini, n_estimators: 30, max_depth: 4, Acuuracy: 0.977778\n",
      "criterion_n: gini, n_estimators: 30, max_depth: 6, Acuuracy: 1.000000\n",
      "criterion_n: gini, n_estimators: 30, max_depth: 6, Acuuracy: 0.977778\n",
      "criterion_n: gini, n_estimators: 30, max_depth: 8, Acuuracy: 0.977778\n",
      "criterion_n: gini, n_estimators: 30, max_depth: 10, Acuuracy: 0.977778\n",
      "criterion_n: entropy, n_estimators: 10, max_depth: 2, Acuuracy: 1.000000\n",
      "criterion_n: entropy, n_estimators: 10, max_depth: 4, Acuuracy: 0.977778\n",
      "criterion_n: entropy, n_estimators: 10, max_depth: 6, Acuuracy: 0.977778\n",
      "criterion_n: entropy, n_estimators: 10, max_depth: 6, Acuuracy: 0.977778\n",
      "criterion_n: entropy, n_estimators: 10, max_depth: 8, Acuuracy: 0.977778\n",
      "criterion_n: entropy, n_estimators: 10, max_depth: 10, Acuuracy: 0.977778\n",
      "criterion_n: entropy, n_estimators: 20, max_depth: 2, Acuuracy: 1.000000\n",
      "criterion_n: entropy, n_estimators: 20, max_depth: 4, Acuuracy: 0.977778\n",
      "criterion_n: entropy, n_estimators: 20, max_depth: 6, Acuuracy: 0.977778\n",
      "criterion_n: entropy, n_estimators: 20, max_depth: 6, Acuuracy: 0.977778\n",
      "criterion_n: entropy, n_estimators: 20, max_depth: 8, Acuuracy: 1.000000\n",
      "criterion_n: entropy, n_estimators: 20, max_depth: 10, Acuuracy: 1.000000\n",
      "criterion_n: entropy, n_estimators: 30, max_depth: 2, Acuuracy: 0.977778\n",
      "criterion_n: entropy, n_estimators: 30, max_depth: 4, Acuuracy: 1.000000\n",
      "criterion_n: entropy, n_estimators: 30, max_depth: 6, Acuuracy: 1.000000\n",
      "criterion_n: entropy, n_estimators: 30, max_depth: 6, Acuuracy: 0.977778\n",
      "criterion_n: entropy, n_estimators: 30, max_depth: 8, Acuuracy: 0.977778\n",
      "criterion_n: entropy, n_estimators: 30, max_depth: 10, Acuuracy: 1.000000\n"
     ]
    }
   ],
   "source": [
    "# ref:https://blog.csdn.net/u012102306/article/details/52228516\n",
    "# 讀取鳶尾花資料集\n",
    "wine = datasets.load_wine()\n",
    "\n",
    "# 切分訓練集/測試集\n",
    "x_train, x_test, y_train, y_test = train_test_split(wine.data, wine.target, test_size=0.25, random_state=4)\n",
    "\n",
    "for criterion_n in ['gini','entropy']:\n",
    "    for n_estimators_n in [10,20,30]:\n",
    "        for max_depth_n in [2,4,6,6,8,10]:\n",
    "            # 建立模型 (使用 20 顆樹，每棵樹的最大深度為 4)\n",
    "            clf = RandomForestClassifier(criterion=criterion_n,n_estimators=n_estimators_n, max_depth=max_depth_n)\n",
    "\n",
    "            # 訓練模型\n",
    "            clf.fit(x_train, y_train)\n",
    "\n",
    "            # 預測測試集\n",
    "            y_pred = clf.predict(x_test)\n",
    "\n",
    "            acc = metrics.accuracy_score(y_test, y_pred)\n",
    "            #print(\"Acuuracy: %f\" % (acc))\n",
    "            print(\"criterion_n: %s, n_estimators: %d, max_depth: %d, Acuuracy: %f\" % (criterion_n, n_estimators_n, max_depth_n, acc))\n",
    "            #print(wine.feature_names)\n",
    "            #print(\"Feature importance: \", clf.feature_importances_)"
   ]
  },
  {
   "cell_type": "code",
   "execution_count": null,
   "metadata": {},
   "outputs": [],
   "source": []
  }
 ],
 "metadata": {
  "kernelspec": {
   "display_name": "Python 3",
   "language": "python",
   "name": "python3"
  },
  "language_info": {
   "codemirror_mode": {
    "name": "ipython",
    "version": 3
   },
   "file_extension": ".py",
   "mimetype": "text/x-python",
   "name": "python",
   "nbconvert_exporter": "python",
   "pygments_lexer": "ipython3",
   "version": "3.7.3"
  }
 },
 "nbformat": 4,
 "nbformat_minor": 2
}
