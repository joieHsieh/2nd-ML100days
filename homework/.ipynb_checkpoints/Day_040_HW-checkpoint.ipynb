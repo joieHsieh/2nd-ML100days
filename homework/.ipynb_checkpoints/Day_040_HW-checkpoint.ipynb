{
 "cells": [
  {
   "cell_type": "markdown",
   "metadata": {},
   "source": [
    "## [作業重點]\n",
    "使用 Sklearn 中的 Lasso, Ridge 模型，來訓練各種資料集，務必了解送進去模型訓練的**資料型態**為何，也請了解模型中各項參數的意義。\n",
    "\n",
    "機器學習的模型非常多種，但要訓練的資料多半有固定的格式，確保你了解訓練資料的格式為何，這樣在應用新模型時，就能夠最快的上手開始訓練！"
   ]
  },
  {
   "cell_type": "markdown",
   "metadata": {},
   "source": [
    "## 練習時間\n",
    "試著使用 sklearn datasets 的其他資料集 (boston, ...)，來訓練自己的線性迴歸模型，並加上適當的正則話來觀察訓練情形。"
   ]
  },
  {
   "cell_type": "code",
   "execution_count": 1,
   "metadata": {},
   "outputs": [],
   "source": [
    "import numpy as np\n",
    "import matplotlib.pyplot as plt\n",
    "from sklearn import datasets, linear_model\n",
    "from sklearn.model_selection import train_test_split\n",
    "from sklearn.metrics import mean_squared_error, r2_score"
   ]
  },
  {
   "cell_type": "code",
   "execution_count": 34,
   "metadata": {},
   "outputs": [],
   "source": [
    "def model(x_train, x_test, y_train, y_test, regr_model, alpha):\n",
    "    # 將訓練資料丟進去模型訓練\n",
    "    regr_model.fit(x_train, y_train)\n",
    "\n",
    "    # 將測試資料丟進模型得到預測結果\n",
    "    y_pred = regr_model.predict(x_test)\n",
    "\n",
    "    #print(regr_model.coef_)\n",
    "\n",
    "    # 預測值與實際值的差距，使用 MSE\n",
    "    print(\"alpha: %f, Mean squared error: %.2f\"\n",
    "          % (alpha, mean_squared_error(y_test, y_pred)))"
   ]
  },
  {
   "cell_type": "code",
   "execution_count": 35,
   "metadata": {},
   "outputs": [],
   "source": [
    "# 讀取資料集\n",
    "boston = datasets.load_boston()\n",
    "\n",
    "# 切分訓練集/測試集\n",
    "x_train, x_test, y_train, y_test = train_test_split(boston.data, boston.target, test_size=0.2, random_state=4)\n"
   ]
  },
  {
   "cell_type": "code",
   "execution_count": 39,
   "metadata": {},
   "outputs": [
    {
     "name": "stdout",
     "output_type": "stream",
     "text": [
      "Linear\n",
      "alpha: 0.000000, Mean squared error: 25.42\n",
      "Lasso\n",
      "alpha: 1.000000, Mean squared error: 28.95\n",
      "alpha: 0.900000, Mean squared error: 28.43\n",
      "alpha: 0.800000, Mean squared error: 27.98\n",
      "alpha: 0.700000, Mean squared error: 27.59\n",
      "alpha: 0.600000, Mean squared error: 27.22\n",
      "alpha: 0.500000, Mean squared error: 26.94\n",
      "alpha: 0.400000, Mean squared error: 26.76\n",
      "alpha: 0.300000, Mean squared error: 26.65\n",
      "alpha: 0.200000, Mean squared error: 26.60\n",
      "alpha: 0.100000, Mean squared error: 26.45\n",
      "Ridge\n",
      "alpha: 1.000000, Mean squared error: 25.74\n",
      "alpha: 0.900000, Mean squared error: 25.72\n",
      "alpha: 0.800000, Mean squared error: 25.69\n",
      "alpha: 0.700000, Mean squared error: 25.66\n",
      "alpha: 0.600000, Mean squared error: 25.63\n",
      "alpha: 0.500000, Mean squared error: 25.60\n",
      "alpha: 0.400000, Mean squared error: 25.56\n",
      "alpha: 0.300000, Mean squared error: 25.53\n",
      "alpha: 0.200000, Mean squared error: 25.49\n",
      "alpha: 0.100000, Mean squared error: 25.46\n"
     ]
    }
   ],
   "source": [
    "# 建立一個線性回歸模型\n",
    "alpha = 0\n",
    "\n",
    "print(\"Linear\")\n",
    "regr = linear_model.LinearRegression()\n",
    "model(x_train, x_test, y_train, y_test, regr, alpha)\n",
    "\n",
    "print(\"Lasso\")\n",
    "for idx in range(10):\n",
    "    alpha = 1 - idx * 0.1\n",
    "    lasso = linear_model.Lasso(alpha)\n",
    "    model(x_train, x_test, y_train, y_test, lasso, alpha)\n",
    "    \n",
    "print(\"Ridge\")\n",
    "for idx in range(10):\n",
    "    alpha = 1 - idx * 0.1\n",
    "    ridge = linear_model.Ridge(alpha)\n",
    "    model(x_train, x_test, y_train, y_test, ridge, alpha)\n"
   ]
  },
  {
   "cell_type": "code",
   "execution_count": null,
   "metadata": {},
   "outputs": [],
   "source": []
  },
  {
   "cell_type": "code",
   "execution_count": null,
   "metadata": {},
   "outputs": [],
   "source": []
  }
 ],
 "metadata": {
  "kernelspec": {
   "display_name": "Python 3",
   "language": "python",
   "name": "python3"
  },
  "language_info": {
   "codemirror_mode": {
    "name": "ipython",
    "version": 3
   },
   "file_extension": ".py",
   "mimetype": "text/x-python",
   "name": "python",
   "nbconvert_exporter": "python",
   "pygments_lexer": "ipython3",
   "version": "3.7.3"
  }
 },
 "nbformat": 4,
 "nbformat_minor": 2
}
